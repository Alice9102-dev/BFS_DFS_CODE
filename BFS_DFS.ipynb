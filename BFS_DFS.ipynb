{
  "nbformat": 4,
  "nbformat_minor": 0,
  "metadata": {
    "colab": {
      "provenance": []
    },
    "kernelspec": {
      "name": "python3",
      "display_name": "Python 3"
    },
    "language_info": {
      "name": "python"
    }
  },
  "cells": [
    {
      "cell_type": "markdown",
      "source": [
        "**Breadth-First Search (BFS) & Depth-First Search (DFS)**"
      ],
      "metadata": {
        "id": "aC9EtKp_QuRk"
      }
    },
    {
      "cell_type": "code",
      "execution_count": 2,
      "metadata": {
        "colab": {
          "base_uri": "https://localhost:8080/"
        },
        "id": "zQHvBZGYPA1_",
        "outputId": "db0f61ef-379c-4b8d-fcb6-35abccd91745"
      },
      "outputs": [
        {
          "output_type": "stream",
          "name": "stdout",
          "text": [
            "BFS Path: ['A', 'B', 'C', 'D', 'E', 'F', 'G'] with cost 8\n",
            "DFS Path: ['A', 'B', 'D', 'E', 'C', 'F', 'G'] with cost 8\n"
          ]
        }
      ],
      "source": [
        "# Sample graph as a dictionary with path costs\n",
        "graph = {\n",
        "    'A': {'B': 1, 'C': 2},\n",
        "    'B': {'D': 4, 'E': 5},\n",
        "    'C': {'F': 3, 'G': 6},\n",
        "    'D': {},\n",
        "    'E': {},\n",
        "    'F': {},\n",
        "    'G': {}\n",
        "}\n",
        "\n",
        "# Breadth-First Search (BFS)\n",
        "def bfs(graph, start):\n",
        "    cost = 0\n",
        "    queue = ([(start, cost)])  # queue of (node, cost) tuples\n",
        "    visited = set()\n",
        "    path = []\n",
        "\n",
        "    while queue:\n",
        "        current, cost = queue.pop(0) # FIFO for BFS\n",
        "        if current not in visited:\n",
        "            visited.add(current)\n",
        "            path = path + [current]\n",
        "\n",
        "            for neighbor, path_cost in graph.get(current, {}).items():\n",
        "                queue.append((neighbor, cost + path_cost)) # Append neighbor to the path\n",
        "    return path, cost\n",
        "\n",
        "# Depth-First Search (DFS)\n",
        "def dfs(graph, start):\n",
        "    cost = 0\n",
        "    stack = [(start, cost)]  # stack of (node, cost) tuples\n",
        "    visited = set()\n",
        "    path = []\n",
        "\n",
        "    while stack:\n",
        "        current, cost = stack.pop() # LIFO for DFS\n",
        "        if current not in visited:\n",
        "            visited.add(current)\n",
        "            path = path + [current]\n",
        "\n",
        "            for neighbor, path_cost in reversed(graph.get(current, {}).items()): # Reversed to follow left-first order\n",
        "                stack.append((neighbor, cost + path_cost)) # Append neighbor to the path\n",
        "    return path, cost\n",
        "\n",
        "# Example usage:\n",
        "start_node = 'A'\n",
        "\n",
        "bfs_path, bfs_cost = bfs(graph, start_node)\n",
        "dfs_path, dfs_cost = dfs(graph, start_node)\n",
        "print(f\"BFS Path: {bfs_path} with cost {bfs_cost}\")\n",
        "print(f\"DFS Path: {dfs_path} with cost {dfs_cost}\")"
      ]
    }
  ]
}