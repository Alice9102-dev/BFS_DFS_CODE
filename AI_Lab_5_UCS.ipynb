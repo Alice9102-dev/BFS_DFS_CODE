{
  "nbformat": 4,
  "nbformat_minor": 0,
  "metadata": {
    "colab": {
      "provenance": []
    },
    "kernelspec": {
      "name": "python3",
      "display_name": "Python 3"
    },
    "language_info": {
      "name": "python"
    }
  },
  "cells": [
    {
      "cell_type": "markdown",
      "source": [
        "**Uniform Cost Search (UCS)**"
      ],
      "metadata": {
        "id": "681WXPJBV_DN"
      }
    },
    {
      "cell_type": "code",
      "source": [
        "import heapq\n",
        "\n",
        "# Sample graph as a dictionary with path costs\n",
        "graph = {\n",
        "    'A': {'B': 1, 'C': 2},\n",
        "    'B': {'D': 4, 'E': 5},\n",
        "    'C': {'F': 3, 'G': 6},\n",
        "    'D': {},\n",
        "    'E': {},\n",
        "    'F': {},\n",
        "    'G': {}\n",
        "}\n",
        "\n",
        "def ucs(graph, start, goal):\n",
        "    cost = 0\n",
        "    path = []\n",
        "    priority_queue = [(cost, start, path)]  # priority queue of (cost, node, path)\n",
        "    visited = set()\n",
        "\n",
        "    while priority_queue:\n",
        "        cost, current, path = heapq.heappop(priority_queue) # Get node with lowest cost\n",
        "        path = path + [current]\n",
        "\n",
        "        if current == goal: # Check if reached goal\n",
        "            return cost, path\n",
        "\n",
        "        if current not in visited:\n",
        "            visited.add(current)\n",
        "            for neighbor, path_cost in graph.get(current, {}).items():\n",
        "                if neighbor not in visited:\n",
        "                    heapq.heappush(priority_queue, (cost + path_cost, neighbor, path))  # Add neighbor to priority queue\n",
        "\n",
        "    return float('inf'), None\n",
        "\n",
        "start_node = 'A'\n",
        "goal_node = 'G'\n",
        "\n",
        "ucs_cost, ucs_path = ucs(graph, start_node, goal_node)\n",
        "print(f\"UCS Path: {ucs_path} with cost: {ucs_cost}\")"
      ],
      "metadata": {
        "colab": {
          "base_uri": "https://localhost:8080/"
        },
        "id": "CHBGgy3KGywc",
        "outputId": "a05439b0-2868-4243-d095-9276d99a473a"
      },
      "execution_count": 15,
      "outputs": [
        {
          "output_type": "stream",
          "name": "stdout",
          "text": [
            "UCS Path: ['A', 'C', 'G'] with cost: 8\n"
          ]
        }
      ]
    },
    {
      "cell_type": "markdown",
      "source": [
        "**Uniform Cost Search (UCS) with Multiple Goals**"
      ],
      "metadata": {
        "id": "hz3SCgzZszST"
      }
    },
    {
      "cell_type": "code",
      "source": [
        "import heapq\n",
        "\n",
        "# Sample graph as a dictionary with path costs\n",
        "graph = {\n",
        "    'A': {'B': 1, 'C': 2},\n",
        "    'B': {'D': 4, 'E': 5},\n",
        "    'C': {'F': 3, 'G': 6},\n",
        "    'D': {},\n",
        "    'E': {},\n",
        "    'F': {},\n",
        "    'G': {}\n",
        "}\n",
        "\n",
        "def ucs_multiple_goals(graph, start, goals):\n",
        "    cost = 0\n",
        "    path = []\n",
        "    priority_queue = [(cost, start, path)]  # priority queue of (cost, node, path)\n",
        "    visited = set()\n",
        "    results = {}  # Dictionary to store the paths and costs for each goal\n",
        "\n",
        "    while priority_queue:\n",
        "        cost, current, path = heapq.heappop(priority_queue)  # Get node with lowest cost\n",
        "        path = path + [current]\n",
        "\n",
        "        if current in goals:\n",
        "            results[current] = (cost, path)\n",
        "            goals.remove(current)\n",
        "\n",
        "            if not goals: # Return if all goals found\n",
        "                return results\n",
        "\n",
        "        if current not in visited:\n",
        "            visited.add(current)\n",
        "            for neighbor, path_cost in graph.get(current, {}).items():\n",
        "                if neighbor not in visited:\n",
        "                    heapq.heappush(priority_queue, (cost + path_cost, neighbor, path))  # Add neighbor to priority queue\n",
        "\n",
        "    if results:\n",
        "        return results\n",
        "    else:\n",
        "        return None\n",
        "\n",
        "start_node = 'A'\n",
        "goal_nodes = ['E', 'G']\n",
        "\n",
        "results = ucs_multiple_goals(graph, start_node, goal_nodes)\n",
        "if results:\n",
        "    for goal, (cost, path) in results.items():\n",
        "        print(f\"UCS Path for {goal}: {path} with cost: {cost}\")\n",
        "else:\n",
        "    print(\"No goals could be reached.\")"
      ],
      "metadata": {
        "colab": {
          "base_uri": "https://localhost:8080/"
        },
        "id": "A8uHKaqAs3rB",
        "outputId": "dfc22fca-b9ef-4c65-ecda-e6959dc7bd05"
      },
      "execution_count": 23,
      "outputs": [
        {
          "output_type": "stream",
          "name": "stdout",
          "text": [
            "UCS Path for E: ['A', 'B', 'E'] with cost: 6\n",
            "UCS Path for G: ['A', 'C', 'G'] with cost: 8\n"
          ]
        }
      ]
    }
  ]
}